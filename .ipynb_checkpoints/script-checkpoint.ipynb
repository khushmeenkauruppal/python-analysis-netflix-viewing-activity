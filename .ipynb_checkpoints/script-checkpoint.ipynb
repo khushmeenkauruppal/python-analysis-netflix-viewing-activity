{
 "cells": [
  {
   "cell_type": "code",
   "execution_count": 1,
   "id": "a74a21a6-3f30-4e04-a8ae-b34825b502dd",
   "metadata": {},
   "outputs": [],
   "source": [
    "import pandas as pd # import pandas library"
   ]
  },
  {
   "cell_type": "code",
   "execution_count": 2,
   "id": "4471c9f8-9617-48e6-85cc-46e6d0981aa4",
   "metadata": {},
   "outputs": [],
   "source": [
    "df = pd.read_csv('ViewingActivity.csv') # read our Netflix data csv into a pandas dataframe: df"
   ]
  },
  {
   "cell_type": "code",
   "execution_count": 3,
   "id": "9247cf4e-10ab-41a4-84b4-745360aa98fd",
   "metadata": {},
   "outputs": [
    {
     "data": {
      "text/plain": [
       "(444, 10)"
      ]
     },
     "execution_count": 3,
     "metadata": {},
     "output_type": "execute_result"
    }
   ],
   "source": [
    "df.shape # gives # of rows and columns in df"
   ]
  },
  {
   "cell_type": "code",
   "execution_count": 4,
   "id": "d6c6fbda-0841-407f-9de7-ede10db29c0d",
   "metadata": {},
   "outputs": [
    {
     "data": {
      "text/html": [
       "<div>\n",
       "<style scoped>\n",
       "    .dataframe tbody tr th:only-of-type {\n",
       "        vertical-align: middle;\n",
       "    }\n",
       "\n",
       "    .dataframe tbody tr th {\n",
       "        vertical-align: top;\n",
       "    }\n",
       "\n",
       "    .dataframe thead th {\n",
       "        text-align: right;\n",
       "    }\n",
       "</style>\n",
       "<table border=\"1\" class=\"dataframe\">\n",
       "  <thead>\n",
       "    <tr style=\"text-align: right;\">\n",
       "      <th></th>\n",
       "      <th>Profile Name</th>\n",
       "      <th>Start Time</th>\n",
       "      <th>Duration</th>\n",
       "      <th>Attributes</th>\n",
       "      <th>Title</th>\n",
       "      <th>Supplemental Video Type</th>\n",
       "      <th>Device Type</th>\n",
       "      <th>Bookmark</th>\n",
       "      <th>Latest Bookmark</th>\n",
       "      <th>Country</th>\n",
       "    </tr>\n",
       "  </thead>\n",
       "  <tbody>\n",
       "    <tr>\n",
       "      <th>0</th>\n",
       "      <td>DHILLON</td>\n",
       "      <td>2024-06-07 13:40:28</td>\n",
       "      <td>00:00:07</td>\n",
       "      <td>Autoplayed: user action: None;</td>\n",
       "      <td>I Am Legend_hook_primary_16x9</td>\n",
       "      <td>HOOK</td>\n",
       "      <td>Android DefaultWidevineL3Phone Android Phone</td>\n",
       "      <td>00:00:07</td>\n",
       "      <td>00:00:07</td>\n",
       "      <td>IN (India)</td>\n",
       "    </tr>\n",
       "  </tbody>\n",
       "</table>\n",
       "</div>"
      ],
      "text/plain": [
       "  Profile Name           Start Time  Duration  \\\n",
       "0      DHILLON  2024-06-07 13:40:28  00:00:07   \n",
       "\n",
       "                        Attributes                          Title  \\\n",
       "0  Autoplayed: user action: None;   I Am Legend_hook_primary_16x9   \n",
       "\n",
       "  Supplemental Video Type                                   Device Type  \\\n",
       "0                    HOOK  Android DefaultWidevineL3Phone Android Phone   \n",
       "\n",
       "   Bookmark Latest Bookmark     Country  \n",
       "0  00:00:07        00:00:07  IN (India)  "
      ]
     },
     "execution_count": 4,
     "metadata": {},
     "output_type": "execute_result"
    }
   ],
   "source": [
    "# df.head() # gives the first few rows of df\n",
    "# pd.set_option('display.max_rows', None)\n",
    "df.head(1)"
   ]
  },
  {
   "cell_type": "code",
   "execution_count": 5,
   "id": "b6a6025b-bae4-42fa-a06b-ff1b90ec99c9",
   "metadata": {},
   "outputs": [
    {
     "data": {
      "text/plain": [
       "Profile Name                 0\n",
       "Start Time                   0\n",
       "Duration                     0\n",
       "Attributes                 281\n",
       "Title                        0\n",
       "Supplemental Video Type    282\n",
       "Device Type                  0\n",
       "Bookmark                     0\n",
       "Latest Bookmark              0\n",
       "Country                      0\n",
       "dtype: int64"
      ]
     },
     "execution_count": 5,
     "metadata": {},
     "output_type": "execute_result"
    }
   ],
   "source": [
    "df.isnull().sum()"
   ]
  },
  {
   "cell_type": "code",
   "execution_count": 6,
   "id": "9eaf6d53-a8fd-49f3-a137-e5d41ecb2d5b",
   "metadata": {},
   "outputs": [
    {
     "data": {
      "text/plain": [
       "(275, 10)"
      ]
     },
     "execution_count": 6,
     "metadata": {},
     "output_type": "execute_result"
    }
   ],
   "source": [
    "# filtering out other profiles\n",
    "df['Profile Name'] = df['Profile Name'].astype(str)\n",
    "df = df[df['Profile Name' ].str.contains('khush', case=False, na=False)]\n",
    "df.shape"
   ]
  },
  {
   "cell_type": "code",
   "execution_count": 7,
   "id": "fc2b09de-ea45-4fa4-b7e9-b16730fb1553",
   "metadata": {},
   "outputs": [
    {
     "data": {
      "text/plain": [
       "(275, 3)"
      ]
     },
     "execution_count": 7,
     "metadata": {},
     "output_type": "execute_result"
    }
   ],
   "source": [
    "# cleaning the data\n",
    "# drop unnecessary columns\n",
    "df.drop(['Profile Name', 'Attributes', 'Supplemental Video Type', \n",
    "         'Device Type', 'Bookmark', 'Latest Bookmark', 'Country'], axis=1, inplace=True)\n",
    "df.shape"
   ]
  },
  {
   "cell_type": "code",
   "execution_count": 8,
   "id": "41d71aee-34c8-4b9c-9514-c4af23300761",
   "metadata": {},
   "outputs": [
    {
     "data": {
      "text/plain": [
       "Start Time    object\n",
       "Duration      object\n",
       "Title         object\n",
       "dtype: object"
      ]
     },
     "execution_count": 8,
     "metadata": {},
     "output_type": "execute_result"
    }
   ],
   "source": [
    "df.dtypes # gives list of datatypes for each column in df\n",
    "          # 'object' datatype means they're strings"
   ]
  },
  {
   "cell_type": "code",
   "execution_count": 9,
   "id": "9c287395-30a7-4929-bcbc-76ab66136c4a",
   "metadata": {},
   "outputs": [
    {
     "data": {
      "text/plain": [
       "Start Time    datetime64[ns, UTC]\n",
       "Duration                   object\n",
       "Title                      object\n",
       "dtype: object"
      ]
     },
     "execution_count": 9,
     "metadata": {},
     "output_type": "execute_result"
    }
   ],
   "source": [
    "df['Start Time'] = pd.to_datetime(df['Start Time'], utc=True) # change datatype of 'Start Time' to datetime with timezone=utc\n",
    "df.dtypes"
   ]
  },
  {
   "cell_type": "code",
   "execution_count": 10,
   "id": "9d867db3-d028-4060-a6ed-bcb3535e471d",
   "metadata": {},
   "outputs": [],
   "source": [
    "# changing timezone of 'Start Time' from 'UTC' to 'US/Eastern'\n",
    "df.set_index('Start Time', inplace=True) # change 'Start Time' column into df's index\n",
    "df.index = df.index.tz_convert('US/Eastern') # convert timezone\n",
    "df.reset_index(inplace=True) # reset the index so 'Start Time' becomes a column again"
   ]
  },
  {
   "cell_type": "code",
   "execution_count": 11,
   "id": "10036b11-7c1d-42ee-9416-6bc8208973f1",
   "metadata": {},
   "outputs": [],
   "source": [
    "# changing datatype of 'Duration' column to 'timedelta' (measure of time duration that pandas understands)\n",
    "df['Duration'] = pd.to_timedelta(df['Duration'])"
   ]
  },
  {
   "cell_type": "code",
   "execution_count": 12,
   "id": "afbe93b6-47eb-45a4-b050-792da2074c49",
   "metadata": {},
   "outputs": [
    {
     "data": {
      "text/plain": [
       "(169, 3)"
      ]
     },
     "execution_count": 12,
     "metadata": {},
     "output_type": "execute_result"
    }
   ],
   "source": [
    "df = df[df['Duration'] > '00:02:00'] # to filter out trailers\n",
    "df.shape"
   ]
  },
  {
   "cell_type": "code",
   "execution_count": 13,
   "id": "20bc755a-a1f5-4e84-92dd-2be801390ff5",
   "metadata": {},
   "outputs": [
    {
     "data": {
      "text/plain": [
       "array(['Brooklyn Nine-Nine: Season 5: Safe House (Episode 12)',\n",
       "       'Brooklyn Nine-Nine: Season 5: Game Night (Episode 10)',\n",
       "       'Brooklyn Nine-Nine: Season 5: 99 (Episode 9)',\n",
       "       'Brooklyn Nine-Nine: Season 5: Return to Skyfire (Episode 8)',\n",
       "       'Brooklyn Nine-Nine: Season 5: Two Turkeys (Episode 7)',\n",
       "       'Brooklyn Nine-Nine: Season 5: The Venue (Episode 6)',\n",
       "       'Brooklyn Nine-Nine: Season 5: Bad Beat (Episode 5)',\n",
       "       'Brooklyn Nine-Nine: Season 5: HalloVeen (Episode 4)',\n",
       "       'The Karate Kid',\n",
       "       'Heeramandi: The Diamond Bazaar: Season 1: Heeramandi - The Swan Song (Episode 8)',\n",
       "       'Heeramandi: The Diamond Bazaar: Season 1: Bibbojaan - Long Live the Revolution (Episode 7)',\n",
       "       'Heeramandi: The Diamond Bazaar: Season 1: Tajdar & Alamzeb - Nation v/s Love (Episode 6)',\n",
       "       'Heeramandi: The Diamond Bazaar: Season 1: Tajdar - The Lover’s Dilemma (Episode 5)',\n",
       "       'Heeramandi: The Diamond Bazaar: Season 1: Alamzeb - The Innocent Pawn (Episode 4)',\n",
       "       'Brooklyn Nine-Nine: Season 5: Kicks (Episode 3)',\n",
       "       'Brooklyn Nine-Nine: Season 5: The Big House, Pt. 2 (Episode 2)',\n",
       "       'Brooklyn Nine-Nine: Season 5: The Big House, Pt. 1 (Episode 1)',\n",
       "       'Heeramandi: The Diamond Bazaar: Season 1: Waheedajaan - Scarred for Life (Episode 3)',\n",
       "       'Heeramandi: The Diamond Bazaar: Season 1: Fareedanjaan - The Challenger Returns (Episode 2)',\n",
       "       'Brooklyn Nine-Nine: Season 4: Crime & Punishment (Episode 22)',\n",
       "       'Brooklyn Nine-Nine: Season 4: The Bank Job (Episode 21)',\n",
       "       'Brooklyn Nine-Nine: Season 4: The Slaughterhouse (Episode 20)',\n",
       "       'Heeramandi: The Diamond Bazaar: Season 1: Mallikajaan - The Queen of Heeramandi (Episode 1)',\n",
       "       'Brooklyn Nine-Nine: Season 4: Your Honor (Episode 19)',\n",
       "       'Brooklyn Nine-Nine: Season 4: Chasing Amy (Episode 18)',\n",
       "       'Brooklyn Nine-Nine: Season 4: Cop-Con (Episode 17)',\n",
       "       'Brooklyn Nine-Nine: Season 4: Moo Moo (Episode 16)',\n",
       "       'Brooklyn Nine-Nine: Season 4: The Last Ride (Episode 15)',\n",
       "       'Brooklyn Nine-Nine: Season 4: Serve & Protect (Episode 14)',\n",
       "       'Brooklyn Nine-Nine: Season 4: The Audit (Episode 13)',\n",
       "       'Brooklyn Nine-Nine: Season 4: The Fugitive: Part 2 (Episode 12)',\n",
       "       'Brooklyn Nine-Nine: Season 4: The Fugitive: Part 1 (Episode 11)',\n",
       "       'Crew',\n",
       "       'Brooklyn Nine-Nine: Season 4: Captain Latvia (Episode 10)',\n",
       "       'Brooklyn Nine-Nine: Season 4: The Overmining (Episode 9)',\n",
       "       'Brooklyn Nine-Nine: Season 4: Skyfire Cycle (Episode 8)',\n",
       "       'Brooklyn Nine-Nine: Season 4: Mr. Santiago (Episode 7)',\n",
       "       'Brooklyn Nine-Nine: Season 4: Monster in the Closet (Episode 6)',\n",
       "       'Brooklyn Nine-Nine: Season 4: Halloween IV (Episode 5)',\n",
       "       'Brooklyn Nine-Nine: Season 4: The Night Shift (Episode 4)',\n",
       "       'Brooklyn Nine-Nine: Season 4: Coral Palms: Part 3 (Episode 3)',\n",
       "       'Brooklyn Nine-Nine: Season 4: Coral Palms: Part 2 (Episode 2)',\n",
       "       'Brooklyn Nine-Nine: Season 4: Coral Palms: Part 1 (Episode 1)',\n",
       "       'Brooklyn Nine-Nine: Season 3: Greg and Larry (Episode 23)',\n",
       "       'Brooklyn Nine-Nine: Season 3: The Bureau (Episode 22)',\n",
       "       'Brooklyn Nine-Nine: Season 3: Maximum Security (Episode 21)',\n",
       "       'Brooklyn Nine-Nine: Season 3: Paranoia (Episode 20)',\n",
       "       'Brooklyn Nine-Nine: Season 3: Terry Kitties (Episode 19)',\n",
       "       'Brooklyn Nine-Nine: Season 3: Cheddar (Episode 18)',\n",
       "       'Brooklyn Nine-Nine: Season 3: Adrian Pimento (Episode 17)',\n",
       "       'Brooklyn Nine-Nine: Season 3: House Mouses (Episode 16)',\n",
       "       'Brooklyn Nine-Nine: Season 3: The 9-8 (Episode 15)',\n",
       "       'Brooklyn Nine-Nine: Season 3: Karen Peralta (Episode 14)',\n",
       "       'Brooklyn Nine-Nine: Season 3: The Cruise (Episode 13)',\n",
       "       'Brooklyn Nine-Nine: Season 3: 9 Days (Episode 12)',\n",
       "       'Brooklyn Nine-Nine: Season 3: Hostage Situation (Episode 11)',\n",
       "       'Brooklyn Nine-Nine: Season 3: Yippie Kayak (Episode 10)',\n",
       "       'Brooklyn Nine-Nine: Season 3: The Swedes (Episode 9)',\n",
       "       'Brooklyn Nine-Nine: Season 3: Ava (Episode 8)',\n",
       "       'Brooklyn Nine-Nine: Season 3: The Mattress (Episode 7)',\n",
       "       'Brooklyn Nine-Nine: Season 3: Into the Woods (Episode 6)',\n",
       "       'Brooklyn Nine-Nine: Season 3: Halloween Part III (Episode 5)',\n",
       "       'Brooklyn Nine-Nine: Season 3: The Oolong Slayer (Episode 4)',\n",
       "       \"Brooklyn Nine-Nine: Season 3: Boyle's Hunch (Episode 3)\",\n",
       "       'Brooklyn Nine-Nine: Season 3: The Funeral (Episode 2)',\n",
       "       'Brooklyn Nine-Nine: Season 3: New Captain (Episode 1)',\n",
       "       'Brooklyn Nine-Nine: Season 2: Johnny and Dora (Episode 23)',\n",
       "       'Brooklyn Nine-Nine: Season 2: The Chopper (Episode 22)',\n",
       "       'Brooklyn Nine-Nine: Season 2: Det. Dave Majors (Episode 21)',\n",
       "       'Brooklyn Nine-Nine: Season 2: AC/DC (Episode 20)',\n",
       "       'Brooklyn Nine-Nine: Season 2: Sabotage (Episode 19)',\n",
       "       'Brooklyn Nine-Nine: Season 2: Captain Peralta (Episode 18)',\n",
       "       'Brooklyn Nine-Nine: Season 2: Boyle-Linetti Wedding (Episode 17)',\n",
       "       'Brooklyn Nine-Nine: Season 2: The Wednesday Incident (Episode 16)',\n",
       "       'Brooklyn Nine-Nine: Season 2: Windbreaker City (Episode 15)',\n",
       "       'Brooklyn Nine-Nine: Season 2: The Defense Rests (Episode 14)',\n",
       "       'Brooklyn Nine-Nine: Season 2: Payback (Episode 13)',\n",
       "       'Brooklyn Nine-Nine: Season 2: Beach House (Episode 12)',\n",
       "       'Brooklyn Nine-Nine: Season 2: Stakeout (Episode 11)',\n",
       "       'Brooklyn Nine-Nine: Season 2: The Pontiac Bandit Returns (Episode 10)',\n",
       "       'Brooklyn Nine-Nine: Season 2: The Road Trip (Episode 9)',\n",
       "       'Brooklyn Nine-Nine: Season 2: USPIS (Episode 8)',\n",
       "       'Brooklyn Nine-Nine: Season 2: Lockdown (Episode 7)',\n",
       "       'Brooklyn Nine-Nine: Season 2: Jake and Sophia (Episode 6)',\n",
       "       'Brooklyn Nine-Nine: Season 2: The Mole (Episode 5)',\n",
       "       'Brooklyn Nine-Nine: Season 2: Halloween II (Episode 4)',\n",
       "       'Brooklyn Nine-Nine: Season 2: The Jimmy Jab Games (Episode 3)',\n",
       "       'Brooklyn Nine-Nine: Season 2: Chocolate Milk (Episode 2)',\n",
       "       'Brooklyn Nine-Nine: Season 2: Undercover (Episode 1)',\n",
       "       'Brooklyn Nine-Nine: Season 1: Charges and Specs (Episode 22)',\n",
       "       'Brooklyn Nine-Nine: Season 1: Unsolvable (Episode 21)',\n",
       "       'Brooklyn Nine-Nine: Season 1: Fancy Brudgom (Episode 20)',\n",
       "       'Brooklyn Nine-Nine: Season 1: Tactical Village (Episode 19)',\n",
       "       'Brooklyn Nine-Nine: Season 1: The Apartment (Episode 18)',\n",
       "       'Brooklyn Nine-Nine: Season 1: Full Boyle (Episode 17)',\n",
       "       'Brooklyn Nine-Nine: Season 1: The Party (Episode 16)',\n",
       "       'Brooklyn Nine-Nine: Season 1: Operation: Broken Feather (Episode 15)',\n",
       "       'Brooklyn Nine-Nine: Season 1: The Ebony Falcon (Episode 14)',\n",
       "       'Brooklyn Nine-Nine: Season 1: The Bet (Episode 13)',\n",
       "       'Brooklyn Nine-Nine: Season 1: Pontiac Bandit (Episode 12)',\n",
       "       'Brooklyn Nine-Nine: Season 1: Christmas (Episode 11)',\n",
       "       'Brooklyn Nine-Nine: Season 1: Thanksgiving (Episode 10)',\n",
       "       \"Brooklyn Nine-Nine: Season 1: Sal's Pizza (Episode 9)\",\n",
       "       'Brooklyn Nine-Nine: Season 1: Old School (Episode 8)',\n",
       "       'Brooklyn Nine-Nine: Season 1: 48 Hours (Episode 7)',\n",
       "       'Brooklyn Nine-Nine: Season 1: Halloween (Episode 6)',\n",
       "       'Brooklyn Nine-Nine: Season 1: The Vulture (Episode 5)',\n",
       "       'Brooklyn Nine-Nine: Season 1: M.E. Time (Episode 4)',\n",
       "       'Brooklyn Nine-Nine: Season 1: The Slump (Episode 3)',\n",
       "       'Brooklyn Nine-Nine: Season 1: The Tagger (Episode 2)',\n",
       "       'Brooklyn Nine-Nine: Season 1: Pilot (Episode 1)',\n",
       "       'BoJack Horseman: Season 2: After the Party (Episode 4)',\n",
       "       'BoJack Horseman: Season 2: Still Broken (Episode 3)',\n",
       "       'BoJack Horseman: Season 2: Yesterdayland (Episode 2)',\n",
       "       'BoJack Horseman: Season 2: Brand New Couch (Episode 1)',\n",
       "       'BoJack Horseman: Season 1: One Trick Pony (Episode 10)',\n",
       "       'BoJack Horseman: Season 1: Horse Majeure (Episode 9)',\n",
       "       'BoJack Horseman: Season 1: Say Anything (Episode 7)',\n",
       "       \"BoJack Horseman: Season 1: Our A-Story Is a 'D' Story (Episode 6)\",\n",
       "       'BoJack Horseman: Season 1: Live Fast, Diane Nguyen (Episode 5)',\n",
       "       'BoJack Horseman: Season 1: Zoës and Zeldas (Episode 4)',\n",
       "       'BoJack Horseman: Season 1: Prickly-Muffin (Episode 3)',\n",
       "       'BoJack Horseman: Season 1: BoJack Hates the Troops (Episode 2)',\n",
       "       'BoJack Horseman: Season 1: BoJack Horseman: The BoJack Horseman Story, Chapter One (Episode 1)',\n",
       "       'The Office (U.S.): Season 7: Nepotism (Episode 1)',\n",
       "       'The Office (U.S.): Season 5: Two Weeks (Episode 21)',\n",
       "       'The Gentlemen: Season 1: Tackle Tommy Woo Woo (Episode 2)',\n",
       "       'The Gentlemen: Season 1: Refined Aggression (Episode 1)'],\n",
       "      dtype=object)"
      ]
     },
     "execution_count": 13,
     "metadata": {},
     "output_type": "execute_result"
    }
   ],
   "source": [
    "df['Title'].unique() # analyzing the 'Title' column to make it make sense"
   ]
  },
  {
   "cell_type": "code",
   "execution_count": 14,
   "id": "3f88d5ff-af3c-45eb-92c6-60df179c41d5",
   "metadata": {},
   "outputs": [
    {
     "data": {
      "text/html": [
       "<div>\n",
       "<style scoped>\n",
       "    .dataframe tbody tr th:only-of-type {\n",
       "        vertical-align: middle;\n",
       "    }\n",
       "\n",
       "    .dataframe tbody tr th {\n",
       "        vertical-align: top;\n",
       "    }\n",
       "\n",
       "    .dataframe thead th {\n",
       "        text-align: right;\n",
       "    }\n",
       "</style>\n",
       "<table border=\"1\" class=\"dataframe\">\n",
       "  <thead>\n",
       "    <tr style=\"text-align: right;\">\n",
       "      <th></th>\n",
       "      <th>Start Time</th>\n",
       "      <th>Duration</th>\n",
       "      <th>Title</th>\n",
       "      <th>Name</th>\n",
       "      <th>Season</th>\n",
       "      <th>Episode Name</th>\n",
       "      <th>Episode #</th>\n",
       "    </tr>\n",
       "  </thead>\n",
       "  <tbody>\n",
       "    <tr>\n",
       "      <th>0</th>\n",
       "      <td>2024-06-07 22:22:32-04:00</td>\n",
       "      <td>0 days 00:20:55</td>\n",
       "      <td>Brooklyn Nine-Nine: Season 5: Safe House (Epis...</td>\n",
       "      <td>Brooklyn Nine-Nine</td>\n",
       "      <td>5</td>\n",
       "      <td>Safe House</td>\n",
       "      <td>12</td>\n",
       "    </tr>\n",
       "    <tr>\n",
       "      <th>2</th>\n",
       "      <td>2024-06-07 22:17:23-04:00</td>\n",
       "      <td>0 days 00:04:37</td>\n",
       "      <td>Brooklyn Nine-Nine: Season 5: Game Night (Epis...</td>\n",
       "      <td>Brooklyn Nine-Nine</td>\n",
       "      <td>5</td>\n",
       "      <td>Game Night</td>\n",
       "      <td>10</td>\n",
       "    </tr>\n",
       "    <tr>\n",
       "      <th>8</th>\n",
       "      <td>2024-06-07 12:29:41-04:00</td>\n",
       "      <td>0 days 00:16:45</td>\n",
       "      <td>Brooklyn Nine-Nine: Season 5: Game Night (Epis...</td>\n",
       "      <td>Brooklyn Nine-Nine</td>\n",
       "      <td>5</td>\n",
       "      <td>Game Night</td>\n",
       "      <td>10</td>\n",
       "    </tr>\n",
       "    <tr>\n",
       "      <th>9</th>\n",
       "      <td>2024-06-06 21:55:36-04:00</td>\n",
       "      <td>0 days 00:21:23</td>\n",
       "      <td>Brooklyn Nine-Nine: Season 5: 99 (Episode 9)</td>\n",
       "      <td>Brooklyn Nine-Nine</td>\n",
       "      <td>5</td>\n",
       "      <td>99</td>\n",
       "      <td>9</td>\n",
       "    </tr>\n",
       "    <tr>\n",
       "      <th>10</th>\n",
       "      <td>2024-06-06 21:42:12-04:00</td>\n",
       "      <td>0 days 00:13:23</td>\n",
       "      <td>Brooklyn Nine-Nine: Season 5: Return to Skyfir...</td>\n",
       "      <td>Brooklyn Nine-Nine</td>\n",
       "      <td>5</td>\n",
       "      <td>Return to Skyfire</td>\n",
       "      <td>8</td>\n",
       "    </tr>\n",
       "    <tr>\n",
       "      <th>...</th>\n",
       "      <td>...</td>\n",
       "      <td>...</td>\n",
       "      <td>...</td>\n",
       "      <td>...</td>\n",
       "      <td>...</td>\n",
       "      <td>...</td>\n",
       "      <td>...</td>\n",
       "    </tr>\n",
       "    <tr>\n",
       "      <th>252</th>\n",
       "      <td>2024-05-08 11:29:33-04:00</td>\n",
       "      <td>0 days 00:04:31</td>\n",
       "      <td>The Office (U.S.): Season 7: Nepotism (Episode 1)</td>\n",
       "      <td>The Office (U.S.)</td>\n",
       "      <td>7</td>\n",
       "      <td>Nepotism</td>\n",
       "      <td>1</td>\n",
       "    </tr>\n",
       "    <tr>\n",
       "      <th>253</th>\n",
       "      <td>2024-05-08 11:22:36-04:00</td>\n",
       "      <td>0 days 00:06:34</td>\n",
       "      <td>The Office (U.S.): Season 5: Two Weeks (Episod...</td>\n",
       "      <td>The Office (U.S.)</td>\n",
       "      <td>5</td>\n",
       "      <td>Two Weeks</td>\n",
       "      <td>21</td>\n",
       "    </tr>\n",
       "    <tr>\n",
       "      <th>255</th>\n",
       "      <td>2024-05-07 22:13:39-04:00</td>\n",
       "      <td>0 days 00:33:36</td>\n",
       "      <td>The Gentlemen: Season 1: Tackle Tommy Woo Woo ...</td>\n",
       "      <td>The Gentlemen</td>\n",
       "      <td>1</td>\n",
       "      <td>Tackle Tommy Woo Woo</td>\n",
       "      <td>2</td>\n",
       "    </tr>\n",
       "    <tr>\n",
       "      <th>257</th>\n",
       "      <td>2024-05-07 15:05:09-04:00</td>\n",
       "      <td>0 days 00:38:05</td>\n",
       "      <td>The Gentlemen: Season 1: Refined Aggression (E...</td>\n",
       "      <td>The Gentlemen</td>\n",
       "      <td>1</td>\n",
       "      <td>Refined Aggression</td>\n",
       "      <td>1</td>\n",
       "    </tr>\n",
       "    <tr>\n",
       "      <th>259</th>\n",
       "      <td>2024-05-06 16:08:29-04:00</td>\n",
       "      <td>0 days 00:25:55</td>\n",
       "      <td>The Gentlemen: Season 1: Refined Aggression (E...</td>\n",
       "      <td>The Gentlemen</td>\n",
       "      <td>1</td>\n",
       "      <td>Refined Aggression</td>\n",
       "      <td>1</td>\n",
       "    </tr>\n",
       "  </tbody>\n",
       "</table>\n",
       "<p>169 rows × 7 columns</p>\n",
       "</div>"
      ],
      "text/plain": [
       "                   Start Time        Duration  \\\n",
       "0   2024-06-07 22:22:32-04:00 0 days 00:20:55   \n",
       "2   2024-06-07 22:17:23-04:00 0 days 00:04:37   \n",
       "8   2024-06-07 12:29:41-04:00 0 days 00:16:45   \n",
       "9   2024-06-06 21:55:36-04:00 0 days 00:21:23   \n",
       "10  2024-06-06 21:42:12-04:00 0 days 00:13:23   \n",
       "..                        ...             ...   \n",
       "252 2024-05-08 11:29:33-04:00 0 days 00:04:31   \n",
       "253 2024-05-08 11:22:36-04:00 0 days 00:06:34   \n",
       "255 2024-05-07 22:13:39-04:00 0 days 00:33:36   \n",
       "257 2024-05-07 15:05:09-04:00 0 days 00:38:05   \n",
       "259 2024-05-06 16:08:29-04:00 0 days 00:25:55   \n",
       "\n",
       "                                                 Title                Name  \\\n",
       "0    Brooklyn Nine-Nine: Season 5: Safe House (Epis...  Brooklyn Nine-Nine   \n",
       "2    Brooklyn Nine-Nine: Season 5: Game Night (Epis...  Brooklyn Nine-Nine   \n",
       "8    Brooklyn Nine-Nine: Season 5: Game Night (Epis...  Brooklyn Nine-Nine   \n",
       "9         Brooklyn Nine-Nine: Season 5: 99 (Episode 9)  Brooklyn Nine-Nine   \n",
       "10   Brooklyn Nine-Nine: Season 5: Return to Skyfir...  Brooklyn Nine-Nine   \n",
       "..                                                 ...                 ...   \n",
       "252  The Office (U.S.): Season 7: Nepotism (Episode 1)   The Office (U.S.)   \n",
       "253  The Office (U.S.): Season 5: Two Weeks (Episod...   The Office (U.S.)   \n",
       "255  The Gentlemen: Season 1: Tackle Tommy Woo Woo ...       The Gentlemen   \n",
       "257  The Gentlemen: Season 1: Refined Aggression (E...       The Gentlemen   \n",
       "259  The Gentlemen: Season 1: Refined Aggression (E...       The Gentlemen   \n",
       "\n",
       "    Season          Episode Name Episode #  \n",
       "0        5            Safe House        12  \n",
       "2        5            Game Night        10  \n",
       "8        5            Game Night        10  \n",
       "9        5                    99         9  \n",
       "10       5     Return to Skyfire         8  \n",
       "..     ...                   ...       ...  \n",
       "252      7              Nepotism         1  \n",
       "253      5             Two Weeks        21  \n",
       "255      1  Tackle Tommy Woo Woo         2  \n",
       "257      1    Refined Aggression         1  \n",
       "259      1    Refined Aggression         1  \n",
       "\n",
       "[169 rows x 7 columns]"
      ]
     },
     "execution_count": 14,
     "metadata": {},
     "output_type": "execute_result"
    }
   ],
   "source": [
    "# parsing 'Title' column into 'Name', 'Season', 'Episode Name', 'Episode #'\n",
    "df[['Name', 'Season', 'Episode Name', 'Episode #']] = df['Title'].str.extract('^(.*?): Season (\\d+): (.*) \\(Episode (\\d+)\\)$', expand=True)\n",
    "df"
   ]
  },
  {
   "cell_type": "code",
   "execution_count": 15,
   "id": "f71d4b4b-84f3-4691-8598-30562b86ca72",
   "metadata": {},
   "outputs": [
    {
     "data": {
      "text/plain": [
       "array(['Brooklyn Nine-Nine', nan, 'Heeramandi: The Diamond Bazaar',\n",
       "       'BoJack Horseman', 'The Office (U.S.)', 'The Gentlemen'],\n",
       "      dtype=object)"
      ]
     },
     "execution_count": 15,
     "metadata": {},
     "output_type": "execute_result"
    }
   ],
   "source": [
    "df['Name'].unique() # gives the list of unique names of movies/shows entries\n",
    "                    # notice that 'nan' is there\n",
    "                    # gotta look into that"
   ]
  },
  {
   "cell_type": "code",
   "execution_count": 16,
   "id": "951eba71-0291-4bcd-83ad-495280481d3e",
   "metadata": {},
   "outputs": [
    {
     "data": {
      "text/plain": [
       "2"
      ]
     },
     "execution_count": 16,
     "metadata": {},
     "output_type": "execute_result"
    }
   ],
   "source": [
    "df['Name'].isnull().sum() # gives the sum of null values in 'Name' column"
   ]
  },
  {
   "cell_type": "code",
   "execution_count": 17,
   "id": "89483f4b-bfd6-45ca-bb8b-a16b7f29071c",
   "metadata": {},
   "outputs": [
    {
     "data": {
      "text/html": [
       "<div>\n",
       "<style scoped>\n",
       "    .dataframe tbody tr th:only-of-type {\n",
       "        vertical-align: middle;\n",
       "    }\n",
       "\n",
       "    .dataframe tbody tr th {\n",
       "        vertical-align: top;\n",
       "    }\n",
       "\n",
       "    .dataframe thead th {\n",
       "        text-align: right;\n",
       "    }\n",
       "</style>\n",
       "<table border=\"1\" class=\"dataframe\">\n",
       "  <thead>\n",
       "    <tr style=\"text-align: right;\">\n",
       "      <th></th>\n",
       "      <th>Start Time</th>\n",
       "      <th>Duration</th>\n",
       "      <th>Title</th>\n",
       "      <th>Name</th>\n",
       "      <th>Season</th>\n",
       "      <th>Episode Name</th>\n",
       "      <th>Episode #</th>\n",
       "    </tr>\n",
       "  </thead>\n",
       "  <tbody>\n",
       "    <tr>\n",
       "      <th>28</th>\n",
       "      <td>2024-06-05 18:08:02-04:00</td>\n",
       "      <td>0 days 02:17:28</td>\n",
       "      <td>The Karate Kid</td>\n",
       "      <td>NaN</td>\n",
       "      <td>NaN</td>\n",
       "      <td>NaN</td>\n",
       "      <td>NaN</td>\n",
       "    </tr>\n",
       "    <tr>\n",
       "      <th>77</th>\n",
       "      <td>2024-05-30 23:19:41-04:00</td>\n",
       "      <td>0 days 01:48:56</td>\n",
       "      <td>Crew</td>\n",
       "      <td>NaN</td>\n",
       "      <td>NaN</td>\n",
       "      <td>NaN</td>\n",
       "      <td>NaN</td>\n",
       "    </tr>\n",
       "  </tbody>\n",
       "</table>\n",
       "</div>"
      ],
      "text/plain": [
       "                  Start Time        Duration           Title Name Season  \\\n",
       "28 2024-06-05 18:08:02-04:00 0 days 02:17:28  The Karate Kid  NaN    NaN   \n",
       "77 2024-05-30 23:19:41-04:00 0 days 01:48:56            Crew  NaN    NaN   \n",
       "\n",
       "   Episode Name Episode #  \n",
       "28          NaN       NaN  \n",
       "77          NaN       NaN  "
      ]
     },
     "execution_count": 17,
     "metadata": {},
     "output_type": "execute_result"
    }
   ],
   "source": [
    "df[df['Name'].isnull()] # gives the records where 'Name' is null\n",
    "                        # turns out 'Title' names with no season or episode details (probably movies) did not get parsed"
   ]
  },
  {
   "cell_type": "code",
   "execution_count": 18,
   "id": "136bb0bc-b904-4650-80fc-ed9336edb968",
   "metadata": {},
   "outputs": [],
   "source": [
    "movies = df[df['Name'].isnull()] # stores the movies in a separate dataframe\n",
    "shows = df[df['Name'].notnull()] # stores the shows in a separate dataframe"
   ]
  },
  {
   "cell_type": "code",
   "execution_count": 19,
   "id": "d787dc94-3c50-4f70-9b8b-d155738cd642",
   "metadata": {},
   "outputs": [
    {
     "name": "stderr",
     "output_type": "stream",
     "text": [
      "/var/folders/pc/tqs1rn956rz1yh1_59yx49zr0000gn/T/ipykernel_60371/2331883203.py:1: SettingWithCopyWarning: \n",
      "A value is trying to be set on a copy of a slice from a DataFrame\n",
      "\n",
      "See the caveats in the documentation: https://pandas.pydata.org/pandas-docs/stable/user_guide/indexing.html#returning-a-view-versus-a-copy\n",
      "  movies.drop(['Name', 'Season', 'Episode Name', 'Episode #'], axis=1, inplace=True) # since they are null values\n"
     ]
    },
    {
     "data": {
      "text/html": [
       "<div>\n",
       "<style scoped>\n",
       "    .dataframe tbody tr th:only-of-type {\n",
       "        vertical-align: middle;\n",
       "    }\n",
       "\n",
       "    .dataframe tbody tr th {\n",
       "        vertical-align: top;\n",
       "    }\n",
       "\n",
       "    .dataframe thead th {\n",
       "        text-align: right;\n",
       "    }\n",
       "</style>\n",
       "<table border=\"1\" class=\"dataframe\">\n",
       "  <thead>\n",
       "    <tr style=\"text-align: right;\">\n",
       "      <th></th>\n",
       "      <th>Start Time</th>\n",
       "      <th>Duration</th>\n",
       "      <th>Title</th>\n",
       "    </tr>\n",
       "  </thead>\n",
       "  <tbody>\n",
       "    <tr>\n",
       "      <th>28</th>\n",
       "      <td>2024-06-05 18:08:02-04:00</td>\n",
       "      <td>0 days 02:17:28</td>\n",
       "      <td>The Karate Kid</td>\n",
       "    </tr>\n",
       "    <tr>\n",
       "      <th>77</th>\n",
       "      <td>2024-05-30 23:19:41-04:00</td>\n",
       "      <td>0 days 01:48:56</td>\n",
       "      <td>Crew</td>\n",
       "    </tr>\n",
       "  </tbody>\n",
       "</table>\n",
       "</div>"
      ],
      "text/plain": [
       "                  Start Time        Duration           Title\n",
       "28 2024-06-05 18:08:02-04:00 0 days 02:17:28  The Karate Kid\n",
       "77 2024-05-30 23:19:41-04:00 0 days 01:48:56            Crew"
      ]
     },
     "execution_count": 19,
     "metadata": {},
     "output_type": "execute_result"
    }
   ],
   "source": [
    "movies.drop(['Name', 'Season', 'Episode Name', 'Episode #'], axis=1, inplace=True) # since they are null values\n",
    "movies"
   ]
  },
  {
   "cell_type": "code",
   "execution_count": 20,
   "id": "c8bb73b7-7d1d-44de-84d3-4556eeebbd84",
   "metadata": {},
   "outputs": [
    {
     "data": {
      "text/html": [
       "<div>\n",
       "<style scoped>\n",
       "    .dataframe tbody tr th:only-of-type {\n",
       "        vertical-align: middle;\n",
       "    }\n",
       "\n",
       "    .dataframe tbody tr th {\n",
       "        vertical-align: top;\n",
       "    }\n",
       "\n",
       "    .dataframe thead th {\n",
       "        text-align: right;\n",
       "    }\n",
       "</style>\n",
       "<table border=\"1\" class=\"dataframe\">\n",
       "  <thead>\n",
       "    <tr style=\"text-align: right;\">\n",
       "      <th></th>\n",
       "      <th>Start Time</th>\n",
       "      <th>Duration</th>\n",
       "      <th>Title</th>\n",
       "      <th>Name</th>\n",
       "      <th>Season</th>\n",
       "      <th>Episode Name</th>\n",
       "      <th>Episode #</th>\n",
       "    </tr>\n",
       "  </thead>\n",
       "  <tbody>\n",
       "    <tr>\n",
       "      <th>0</th>\n",
       "      <td>2024-06-07 22:22:32-04:00</td>\n",
       "      <td>0 days 00:20:55</td>\n",
       "      <td>Brooklyn Nine-Nine: Season 5: Safe House (Epis...</td>\n",
       "      <td>Brooklyn Nine-Nine</td>\n",
       "      <td>5</td>\n",
       "      <td>Safe House</td>\n",
       "      <td>12</td>\n",
       "    </tr>\n",
       "    <tr>\n",
       "      <th>2</th>\n",
       "      <td>2024-06-07 22:17:23-04:00</td>\n",
       "      <td>0 days 00:04:37</td>\n",
       "      <td>Brooklyn Nine-Nine: Season 5: Game Night (Epis...</td>\n",
       "      <td>Brooklyn Nine-Nine</td>\n",
       "      <td>5</td>\n",
       "      <td>Game Night</td>\n",
       "      <td>10</td>\n",
       "    </tr>\n",
       "    <tr>\n",
       "      <th>8</th>\n",
       "      <td>2024-06-07 12:29:41-04:00</td>\n",
       "      <td>0 days 00:16:45</td>\n",
       "      <td>Brooklyn Nine-Nine: Season 5: Game Night (Epis...</td>\n",
       "      <td>Brooklyn Nine-Nine</td>\n",
       "      <td>5</td>\n",
       "      <td>Game Night</td>\n",
       "      <td>10</td>\n",
       "    </tr>\n",
       "    <tr>\n",
       "      <th>9</th>\n",
       "      <td>2024-06-06 21:55:36-04:00</td>\n",
       "      <td>0 days 00:21:23</td>\n",
       "      <td>Brooklyn Nine-Nine: Season 5: 99 (Episode 9)</td>\n",
       "      <td>Brooklyn Nine-Nine</td>\n",
       "      <td>5</td>\n",
       "      <td>99</td>\n",
       "      <td>9</td>\n",
       "    </tr>\n",
       "    <tr>\n",
       "      <th>10</th>\n",
       "      <td>2024-06-06 21:42:12-04:00</td>\n",
       "      <td>0 days 00:13:23</td>\n",
       "      <td>Brooklyn Nine-Nine: Season 5: Return to Skyfir...</td>\n",
       "      <td>Brooklyn Nine-Nine</td>\n",
       "      <td>5</td>\n",
       "      <td>Return to Skyfire</td>\n",
       "      <td>8</td>\n",
       "    </tr>\n",
       "    <tr>\n",
       "      <th>...</th>\n",
       "      <td>...</td>\n",
       "      <td>...</td>\n",
       "      <td>...</td>\n",
       "      <td>...</td>\n",
       "      <td>...</td>\n",
       "      <td>...</td>\n",
       "      <td>...</td>\n",
       "    </tr>\n",
       "    <tr>\n",
       "      <th>252</th>\n",
       "      <td>2024-05-08 11:29:33-04:00</td>\n",
       "      <td>0 days 00:04:31</td>\n",
       "      <td>The Office (U.S.): Season 7: Nepotism (Episode 1)</td>\n",
       "      <td>The Office (U.S.)</td>\n",
       "      <td>7</td>\n",
       "      <td>Nepotism</td>\n",
       "      <td>1</td>\n",
       "    </tr>\n",
       "    <tr>\n",
       "      <th>253</th>\n",
       "      <td>2024-05-08 11:22:36-04:00</td>\n",
       "      <td>0 days 00:06:34</td>\n",
       "      <td>The Office (U.S.): Season 5: Two Weeks (Episod...</td>\n",
       "      <td>The Office (U.S.)</td>\n",
       "      <td>5</td>\n",
       "      <td>Two Weeks</td>\n",
       "      <td>21</td>\n",
       "    </tr>\n",
       "    <tr>\n",
       "      <th>255</th>\n",
       "      <td>2024-05-07 22:13:39-04:00</td>\n",
       "      <td>0 days 00:33:36</td>\n",
       "      <td>The Gentlemen: Season 1: Tackle Tommy Woo Woo ...</td>\n",
       "      <td>The Gentlemen</td>\n",
       "      <td>1</td>\n",
       "      <td>Tackle Tommy Woo Woo</td>\n",
       "      <td>2</td>\n",
       "    </tr>\n",
       "    <tr>\n",
       "      <th>257</th>\n",
       "      <td>2024-05-07 15:05:09-04:00</td>\n",
       "      <td>0 days 00:38:05</td>\n",
       "      <td>The Gentlemen: Season 1: Refined Aggression (E...</td>\n",
       "      <td>The Gentlemen</td>\n",
       "      <td>1</td>\n",
       "      <td>Refined Aggression</td>\n",
       "      <td>1</td>\n",
       "    </tr>\n",
       "    <tr>\n",
       "      <th>259</th>\n",
       "      <td>2024-05-06 16:08:29-04:00</td>\n",
       "      <td>0 days 00:25:55</td>\n",
       "      <td>The Gentlemen: Season 1: Refined Aggression (E...</td>\n",
       "      <td>The Gentlemen</td>\n",
       "      <td>1</td>\n",
       "      <td>Refined Aggression</td>\n",
       "      <td>1</td>\n",
       "    </tr>\n",
       "  </tbody>\n",
       "</table>\n",
       "<p>167 rows × 7 columns</p>\n",
       "</div>"
      ],
      "text/plain": [
       "                   Start Time        Duration  \\\n",
       "0   2024-06-07 22:22:32-04:00 0 days 00:20:55   \n",
       "2   2024-06-07 22:17:23-04:00 0 days 00:04:37   \n",
       "8   2024-06-07 12:29:41-04:00 0 days 00:16:45   \n",
       "9   2024-06-06 21:55:36-04:00 0 days 00:21:23   \n",
       "10  2024-06-06 21:42:12-04:00 0 days 00:13:23   \n",
       "..                        ...             ...   \n",
       "252 2024-05-08 11:29:33-04:00 0 days 00:04:31   \n",
       "253 2024-05-08 11:22:36-04:00 0 days 00:06:34   \n",
       "255 2024-05-07 22:13:39-04:00 0 days 00:33:36   \n",
       "257 2024-05-07 15:05:09-04:00 0 days 00:38:05   \n",
       "259 2024-05-06 16:08:29-04:00 0 days 00:25:55   \n",
       "\n",
       "                                                 Title                Name  \\\n",
       "0    Brooklyn Nine-Nine: Season 5: Safe House (Epis...  Brooklyn Nine-Nine   \n",
       "2    Brooklyn Nine-Nine: Season 5: Game Night (Epis...  Brooklyn Nine-Nine   \n",
       "8    Brooklyn Nine-Nine: Season 5: Game Night (Epis...  Brooklyn Nine-Nine   \n",
       "9         Brooklyn Nine-Nine: Season 5: 99 (Episode 9)  Brooklyn Nine-Nine   \n",
       "10   Brooklyn Nine-Nine: Season 5: Return to Skyfir...  Brooklyn Nine-Nine   \n",
       "..                                                 ...                 ...   \n",
       "252  The Office (U.S.): Season 7: Nepotism (Episode 1)   The Office (U.S.)   \n",
       "253  The Office (U.S.): Season 5: Two Weeks (Episod...   The Office (U.S.)   \n",
       "255  The Gentlemen: Season 1: Tackle Tommy Woo Woo ...       The Gentlemen   \n",
       "257  The Gentlemen: Season 1: Refined Aggression (E...       The Gentlemen   \n",
       "259  The Gentlemen: Season 1: Refined Aggression (E...       The Gentlemen   \n",
       "\n",
       "    Season          Episode Name Episode #  \n",
       "0        5            Safe House        12  \n",
       "2        5            Game Night        10  \n",
       "8        5            Game Night        10  \n",
       "9        5                    99         9  \n",
       "10       5     Return to Skyfire         8  \n",
       "..     ...                   ...       ...  \n",
       "252      7              Nepotism         1  \n",
       "253      5             Two Weeks        21  \n",
       "255      1  Tackle Tommy Woo Woo         2  \n",
       "257      1    Refined Aggression         1  \n",
       "259      1    Refined Aggression         1  \n",
       "\n",
       "[167 rows x 7 columns]"
      ]
     },
     "execution_count": 20,
     "metadata": {},
     "output_type": "execute_result"
    }
   ],
   "source": [
    "shows"
   ]
  },
  {
   "cell_type": "code",
   "execution_count": 21,
   "id": "667fd1ea-6ab4-46ed-95d6-635496046a4a",
   "metadata": {},
   "outputs": [
    {
     "name": "stderr",
     "output_type": "stream",
     "text": [
      "/var/folders/pc/tqs1rn956rz1yh1_59yx49zr0000gn/T/ipykernel_60371/166321783.py:1: SettingWithCopyWarning: \n",
      "A value is trying to be set on a copy of a slice from a DataFrame.\n",
      "Try using .loc[row_indexer,col_indexer] = value instead\n",
      "\n",
      "See the caveats in the documentation: https://pandas.pydata.org/pandas-docs/stable/user_guide/indexing.html#returning-a-view-versus-a-copy\n",
      "  shows['Weekday'] = shows['Start Time'].dt.weekday\n",
      "/var/folders/pc/tqs1rn956rz1yh1_59yx49zr0000gn/T/ipykernel_60371/166321783.py:2: SettingWithCopyWarning: \n",
      "A value is trying to be set on a copy of a slice from a DataFrame.\n",
      "Try using .loc[row_indexer,col_indexer] = value instead\n",
      "\n",
      "See the caveats in the documentation: https://pandas.pydata.org/pandas-docs/stable/user_guide/indexing.html#returning-a-view-versus-a-copy\n",
      "  shows['Hour'] = shows['Start Time'].dt.hour\n"
     ]
    },
    {
     "data": {
      "text/html": [
       "<div>\n",
       "<style scoped>\n",
       "    .dataframe tbody tr th:only-of-type {\n",
       "        vertical-align: middle;\n",
       "    }\n",
       "\n",
       "    .dataframe tbody tr th {\n",
       "        vertical-align: top;\n",
       "    }\n",
       "\n",
       "    .dataframe thead th {\n",
       "        text-align: right;\n",
       "    }\n",
       "</style>\n",
       "<table border=\"1\" class=\"dataframe\">\n",
       "  <thead>\n",
       "    <tr style=\"text-align: right;\">\n",
       "      <th></th>\n",
       "      <th>Start Time</th>\n",
       "      <th>Duration</th>\n",
       "      <th>Title</th>\n",
       "      <th>Name</th>\n",
       "      <th>Season</th>\n",
       "      <th>Episode Name</th>\n",
       "      <th>Episode #</th>\n",
       "      <th>Weekday</th>\n",
       "      <th>Hour</th>\n",
       "    </tr>\n",
       "  </thead>\n",
       "  <tbody>\n",
       "    <tr>\n",
       "      <th>0</th>\n",
       "      <td>2024-06-07 22:22:32-04:00</td>\n",
       "      <td>0 days 00:20:55</td>\n",
       "      <td>Brooklyn Nine-Nine: Season 5: Safe House (Epis...</td>\n",
       "      <td>Brooklyn Nine-Nine</td>\n",
       "      <td>5</td>\n",
       "      <td>Safe House</td>\n",
       "      <td>12</td>\n",
       "      <td>4</td>\n",
       "      <td>22</td>\n",
       "    </tr>\n",
       "    <tr>\n",
       "      <th>2</th>\n",
       "      <td>2024-06-07 22:17:23-04:00</td>\n",
       "      <td>0 days 00:04:37</td>\n",
       "      <td>Brooklyn Nine-Nine: Season 5: Game Night (Epis...</td>\n",
       "      <td>Brooklyn Nine-Nine</td>\n",
       "      <td>5</td>\n",
       "      <td>Game Night</td>\n",
       "      <td>10</td>\n",
       "      <td>4</td>\n",
       "      <td>22</td>\n",
       "    </tr>\n",
       "    <tr>\n",
       "      <th>8</th>\n",
       "      <td>2024-06-07 12:29:41-04:00</td>\n",
       "      <td>0 days 00:16:45</td>\n",
       "      <td>Brooklyn Nine-Nine: Season 5: Game Night (Epis...</td>\n",
       "      <td>Brooklyn Nine-Nine</td>\n",
       "      <td>5</td>\n",
       "      <td>Game Night</td>\n",
       "      <td>10</td>\n",
       "      <td>4</td>\n",
       "      <td>12</td>\n",
       "    </tr>\n",
       "    <tr>\n",
       "      <th>9</th>\n",
       "      <td>2024-06-06 21:55:36-04:00</td>\n",
       "      <td>0 days 00:21:23</td>\n",
       "      <td>Brooklyn Nine-Nine: Season 5: 99 (Episode 9)</td>\n",
       "      <td>Brooklyn Nine-Nine</td>\n",
       "      <td>5</td>\n",
       "      <td>99</td>\n",
       "      <td>9</td>\n",
       "      <td>3</td>\n",
       "      <td>21</td>\n",
       "    </tr>\n",
       "    <tr>\n",
       "      <th>10</th>\n",
       "      <td>2024-06-06 21:42:12-04:00</td>\n",
       "      <td>0 days 00:13:23</td>\n",
       "      <td>Brooklyn Nine-Nine: Season 5: Return to Skyfir...</td>\n",
       "      <td>Brooklyn Nine-Nine</td>\n",
       "      <td>5</td>\n",
       "      <td>Return to Skyfire</td>\n",
       "      <td>8</td>\n",
       "      <td>3</td>\n",
       "      <td>21</td>\n",
       "    </tr>\n",
       "    <tr>\n",
       "      <th>...</th>\n",
       "      <td>...</td>\n",
       "      <td>...</td>\n",
       "      <td>...</td>\n",
       "      <td>...</td>\n",
       "      <td>...</td>\n",
       "      <td>...</td>\n",
       "      <td>...</td>\n",
       "      <td>...</td>\n",
       "      <td>...</td>\n",
       "    </tr>\n",
       "    <tr>\n",
       "      <th>252</th>\n",
       "      <td>2024-05-08 11:29:33-04:00</td>\n",
       "      <td>0 days 00:04:31</td>\n",
       "      <td>The Office (U.S.): Season 7: Nepotism (Episode 1)</td>\n",
       "      <td>The Office (U.S.)</td>\n",
       "      <td>7</td>\n",
       "      <td>Nepotism</td>\n",
       "      <td>1</td>\n",
       "      <td>2</td>\n",
       "      <td>11</td>\n",
       "    </tr>\n",
       "    <tr>\n",
       "      <th>253</th>\n",
       "      <td>2024-05-08 11:22:36-04:00</td>\n",
       "      <td>0 days 00:06:34</td>\n",
       "      <td>The Office (U.S.): Season 5: Two Weeks (Episod...</td>\n",
       "      <td>The Office (U.S.)</td>\n",
       "      <td>5</td>\n",
       "      <td>Two Weeks</td>\n",
       "      <td>21</td>\n",
       "      <td>2</td>\n",
       "      <td>11</td>\n",
       "    </tr>\n",
       "    <tr>\n",
       "      <th>255</th>\n",
       "      <td>2024-05-07 22:13:39-04:00</td>\n",
       "      <td>0 days 00:33:36</td>\n",
       "      <td>The Gentlemen: Season 1: Tackle Tommy Woo Woo ...</td>\n",
       "      <td>The Gentlemen</td>\n",
       "      <td>1</td>\n",
       "      <td>Tackle Tommy Woo Woo</td>\n",
       "      <td>2</td>\n",
       "      <td>1</td>\n",
       "      <td>22</td>\n",
       "    </tr>\n",
       "    <tr>\n",
       "      <th>257</th>\n",
       "      <td>2024-05-07 15:05:09-04:00</td>\n",
       "      <td>0 days 00:38:05</td>\n",
       "      <td>The Gentlemen: Season 1: Refined Aggression (E...</td>\n",
       "      <td>The Gentlemen</td>\n",
       "      <td>1</td>\n",
       "      <td>Refined Aggression</td>\n",
       "      <td>1</td>\n",
       "      <td>1</td>\n",
       "      <td>15</td>\n",
       "    </tr>\n",
       "    <tr>\n",
       "      <th>259</th>\n",
       "      <td>2024-05-06 16:08:29-04:00</td>\n",
       "      <td>0 days 00:25:55</td>\n",
       "      <td>The Gentlemen: Season 1: Refined Aggression (E...</td>\n",
       "      <td>The Gentlemen</td>\n",
       "      <td>1</td>\n",
       "      <td>Refined Aggression</td>\n",
       "      <td>1</td>\n",
       "      <td>0</td>\n",
       "      <td>16</td>\n",
       "    </tr>\n",
       "  </tbody>\n",
       "</table>\n",
       "<p>167 rows × 9 columns</p>\n",
       "</div>"
      ],
      "text/plain": [
       "                   Start Time        Duration  \\\n",
       "0   2024-06-07 22:22:32-04:00 0 days 00:20:55   \n",
       "2   2024-06-07 22:17:23-04:00 0 days 00:04:37   \n",
       "8   2024-06-07 12:29:41-04:00 0 days 00:16:45   \n",
       "9   2024-06-06 21:55:36-04:00 0 days 00:21:23   \n",
       "10  2024-06-06 21:42:12-04:00 0 days 00:13:23   \n",
       "..                        ...             ...   \n",
       "252 2024-05-08 11:29:33-04:00 0 days 00:04:31   \n",
       "253 2024-05-08 11:22:36-04:00 0 days 00:06:34   \n",
       "255 2024-05-07 22:13:39-04:00 0 days 00:33:36   \n",
       "257 2024-05-07 15:05:09-04:00 0 days 00:38:05   \n",
       "259 2024-05-06 16:08:29-04:00 0 days 00:25:55   \n",
       "\n",
       "                                                 Title                Name  \\\n",
       "0    Brooklyn Nine-Nine: Season 5: Safe House (Epis...  Brooklyn Nine-Nine   \n",
       "2    Brooklyn Nine-Nine: Season 5: Game Night (Epis...  Brooklyn Nine-Nine   \n",
       "8    Brooklyn Nine-Nine: Season 5: Game Night (Epis...  Brooklyn Nine-Nine   \n",
       "9         Brooklyn Nine-Nine: Season 5: 99 (Episode 9)  Brooklyn Nine-Nine   \n",
       "10   Brooklyn Nine-Nine: Season 5: Return to Skyfir...  Brooklyn Nine-Nine   \n",
       "..                                                 ...                 ...   \n",
       "252  The Office (U.S.): Season 7: Nepotism (Episode 1)   The Office (U.S.)   \n",
       "253  The Office (U.S.): Season 5: Two Weeks (Episod...   The Office (U.S.)   \n",
       "255  The Gentlemen: Season 1: Tackle Tommy Woo Woo ...       The Gentlemen   \n",
       "257  The Gentlemen: Season 1: Refined Aggression (E...       The Gentlemen   \n",
       "259  The Gentlemen: Season 1: Refined Aggression (E...       The Gentlemen   \n",
       "\n",
       "    Season          Episode Name Episode #  Weekday  Hour  \n",
       "0        5            Safe House        12        4    22  \n",
       "2        5            Game Night        10        4    22  \n",
       "8        5            Game Night        10        4    12  \n",
       "9        5                    99         9        3    21  \n",
       "10       5     Return to Skyfire         8        3    21  \n",
       "..     ...                   ...       ...      ...   ...  \n",
       "252      7              Nepotism         1        2    11  \n",
       "253      5             Two Weeks        21        2    11  \n",
       "255      1  Tackle Tommy Woo Woo         2        1    22  \n",
       "257      1    Refined Aggression         1        1    15  \n",
       "259      1    Refined Aggression         1        0    16  \n",
       "\n",
       "[167 rows x 9 columns]"
      ]
     },
     "execution_count": 21,
     "metadata": {},
     "output_type": "execute_result"
    }
   ],
   "source": [
    "shows['Weekday'] = shows['Start Time'].dt.weekday\n",
    "shows['Hour'] = shows['Start Time'].dt.hour\n",
    "shows"
   ]
  },
  {
   "cell_type": "code",
   "execution_count": 22,
   "id": "8c658ce7-0dfe-450d-882b-b6f5f3213970",
   "metadata": {},
   "outputs": [
    {
     "name": "stderr",
     "output_type": "stream",
     "text": [
      "/var/folders/pc/tqs1rn956rz1yh1_59yx49zr0000gn/T/ipykernel_60371/3406457438.py:1: SettingWithCopyWarning: \n",
      "A value is trying to be set on a copy of a slice from a DataFrame.\n",
      "Try using .loc[row_indexer,col_indexer] = value instead\n",
      "\n",
      "See the caveats in the documentation: https://pandas.pydata.org/pandas-docs/stable/user_guide/indexing.html#returning-a-view-versus-a-copy\n",
      "  movies['Weekday'] = movies['Start Time'].dt.weekday\n",
      "/var/folders/pc/tqs1rn956rz1yh1_59yx49zr0000gn/T/ipykernel_60371/3406457438.py:2: SettingWithCopyWarning: \n",
      "A value is trying to be set on a copy of a slice from a DataFrame.\n",
      "Try using .loc[row_indexer,col_indexer] = value instead\n",
      "\n",
      "See the caveats in the documentation: https://pandas.pydata.org/pandas-docs/stable/user_guide/indexing.html#returning-a-view-versus-a-copy\n",
      "  movies['Hour'] = movies['Start Time'].dt.hour\n"
     ]
    },
    {
     "data": {
      "text/html": [
       "<div>\n",
       "<style scoped>\n",
       "    .dataframe tbody tr th:only-of-type {\n",
       "        vertical-align: middle;\n",
       "    }\n",
       "\n",
       "    .dataframe tbody tr th {\n",
       "        vertical-align: top;\n",
       "    }\n",
       "\n",
       "    .dataframe thead th {\n",
       "        text-align: right;\n",
       "    }\n",
       "</style>\n",
       "<table border=\"1\" class=\"dataframe\">\n",
       "  <thead>\n",
       "    <tr style=\"text-align: right;\">\n",
       "      <th></th>\n",
       "      <th>Start Time</th>\n",
       "      <th>Duration</th>\n",
       "      <th>Title</th>\n",
       "      <th>Weekday</th>\n",
       "      <th>Hour</th>\n",
       "    </tr>\n",
       "  </thead>\n",
       "  <tbody>\n",
       "    <tr>\n",
       "      <th>28</th>\n",
       "      <td>2024-06-05 18:08:02-04:00</td>\n",
       "      <td>0 days 02:17:28</td>\n",
       "      <td>The Karate Kid</td>\n",
       "      <td>2</td>\n",
       "      <td>18</td>\n",
       "    </tr>\n",
       "    <tr>\n",
       "      <th>77</th>\n",
       "      <td>2024-05-30 23:19:41-04:00</td>\n",
       "      <td>0 days 01:48:56</td>\n",
       "      <td>Crew</td>\n",
       "      <td>3</td>\n",
       "      <td>23</td>\n",
       "    </tr>\n",
       "  </tbody>\n",
       "</table>\n",
       "</div>"
      ],
      "text/plain": [
       "                  Start Time        Duration           Title  Weekday  Hour\n",
       "28 2024-06-05 18:08:02-04:00 0 days 02:17:28  The Karate Kid        2    18\n",
       "77 2024-05-30 23:19:41-04:00 0 days 01:48:56            Crew        3    23"
      ]
     },
     "execution_count": 22,
     "metadata": {},
     "output_type": "execute_result"
    }
   ],
   "source": [
    "movies['Weekday'] = movies['Start Time'].dt.weekday\n",
    "movies['Hour'] = movies['Start Time'].dt.hour\n",
    "movies"
   ]
  },
  {
   "cell_type": "code",
   "execution_count": 23,
   "id": "a614eb6a-93d1-4ebc-90f4-8a2ee0960240",
   "metadata": {},
   "outputs": [
    {
     "name": "stderr",
     "output_type": "stream",
     "text": [
      "/var/folders/pc/tqs1rn956rz1yh1_59yx49zr0000gn/T/ipykernel_60371/334349986.py:2: SettingWithCopyWarning: \n",
      "A value is trying to be set on a copy of a slice from a DataFrame.\n",
      "Try using .loc[row_indexer,col_indexer] = value instead\n",
      "\n",
      "See the caveats in the documentation: https://pandas.pydata.org/pandas-docs/stable/user_guide/indexing.html#returning-a-view-versus-a-copy\n",
      "  shows['Duration'] = shows['Duration'].dt.total_seconds() / 60\n"
     ]
    },
    {
     "data": {
      "text/plain": [
       "<Axes: title={'center': 'Minutes spent watching each show'}, xlabel='Name'>"
      ]
     },
     "execution_count": 23,
     "metadata": {},
     "output_type": "execute_result"
    },
    {
     "data": {
      "image/png": "[encoded data removed]",
      "text/plain": [
       "<Figure size 500x500 with 1 Axes>"
      ]
     },
     "metadata": {},
     "output_type": "display_data"
    }
   ],
   "source": [
    "# analyzing the 'shows' dataset\n",
    "shows['Duration'] = shows['Duration'].dt.total_seconds() / 60\n",
    "sum_duration_per_show = shows.groupby('Name')['Duration'].sum()\n",
    "sum_duration_per_show.plot(kind='bar', figsize=(5,5), title='Minutes spent watching each show')"
   ]
  },
  {
   "cell_type": "code",
   "execution_count": 24,
   "id": "ec53b5fa-3ef6-47a3-b7c6-0499790da7e7",
   "metadata": {},
   "outputs": [
    {
     "name": "stderr",
     "output_type": "stream",
     "text": [
      "/var/folders/pc/tqs1rn956rz1yh1_59yx49zr0000gn/T/ipykernel_60371/1106846008.py:1: SettingWithCopyWarning: \n",
      "A value is trying to be set on a copy of a slice from a DataFrame.\n",
      "Try using .loc[row_indexer,col_indexer] = value instead\n",
      "\n",
      "See the caveats in the documentation: https://pandas.pydata.org/pandas-docs/stable/user_guide/indexing.html#returning-a-view-versus-a-copy\n",
      "  shows['Weekday'] = pd.Categorical(shows['Weekday'], categories=[0,1,2,3,4,5,6], ordered=True)\n"
     ]
    },
    {
     "data": {
      "text/plain": [
       "<Axes: title={'center': 'Shows watched per day'}, xlabel='Weekday'>"
      ]
     },
     "execution_count": 24,
     "metadata": {},
     "output_type": "execute_result"
    },
    {
     "data": {
      "image/png": "[encoded data removed]",
      "text/plain": [
       "<Figure size 1000x500 with 1 Axes>"
      ]
     },
     "metadata": {},
     "output_type": "display_data"
    }
   ],
   "source": [
    "shows['Weekday'] = pd.Categorical(shows['Weekday'], categories=[0,1,2,3,4,5,6], ordered=True)\n",
    "#by_day_per_show = shows.groupby('Weekday')['Name'].value_counts()\n",
    "by_day = shows['Weekday'].value_counts()\n",
    "by_day = by_day.sort_index()\n",
    "by_day.plot(kind='bar', figsize=(10,5), title='Shows watched per day')"
   ]
  },
  {
   "cell_type": "code",
   "execution_count": 25,
   "id": "7baf2ac7-dde8-4b4a-b6fe-1a9d9ee12962",
   "metadata": {},
   "outputs": [
    {
     "name": "stderr",
     "output_type": "stream",
     "text": [
      "/var/folders/pc/tqs1rn956rz1yh1_59yx49zr0000gn/T/ipykernel_60371/2400310323.py:1: SettingWithCopyWarning: \n",
      "A value is trying to be set on a copy of a slice from a DataFrame.\n",
      "Try using .loc[row_indexer,col_indexer] = value instead\n",
      "\n",
      "See the caveats in the documentation: https://pandas.pydata.org/pandas-docs/stable/user_guide/indexing.html#returning-a-view-versus-a-copy\n",
      "  shows['Hour'] = pd.Categorical(shows['Hour'], categories=[0,1,2,3,4,5,6,7,8,9,10,11,12,13,14,15,16,17,18,19,20,21,22,23], ordered=True)\n"
     ]
    },
    {
     "data": {
      "text/plain": [
       "<Axes: title={'center': 'Shows watched per hour'}, xlabel='Hour'>"
      ]
     },
     "execution_count": 25,
     "metadata": {},
     "output_type": "execute_result"
    },
    {
     "data": {
      "image/png": "[encoded data removed]",
      "text/plain": [
       "<Figure size 1000x500 with 1 Axes>"
      ]
     },
     "metadata": {},
     "output_type": "display_data"
    }
   ],
   "source": [
    "shows['Hour'] = pd.Categorical(shows['Hour'], categories=[0,1,2,3,4,5,6,7,8,9,10,11,12,13,14,15,16,17,18,19,20,21,22,23], ordered=True)\n",
    "#by_hour_per_show = shows.groupby('Name')['Hour'].value_counts()\n",
    "by_hour = shows['Hour'].value_counts()\n",
    "by_hour = by_hour.sort_index()\n",
    "by_hour.plot(kind='bar', figsize=(10,5), title='Shows watched per hour')"
   ]
  }
 ],
 "metadata": {
  "kernelspec": {
   "display_name": "Python 3 (ipykernel)",
   "language": "python",
   "name": "python3"
  },
  "language_info": {
   "codemirror_mode": {
    "name": "ipython",
    "version": 3
   },
   "file_extension": ".py",
   "mimetype": "text/x-python",
   "name": "python",
   "nbconvert_exporter": "python",
   "pygments_lexer": "ipython3",
   "version": "3.11.7"
  }
 },
 "nbformat": 4,
 "nbformat_minor": 5
}
