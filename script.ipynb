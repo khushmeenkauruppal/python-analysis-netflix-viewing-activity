{
 "cells": [
  {
   "cell_type": "code",
   "execution_count": 1,
   "id": "a74a21a6-3f30-4e04-a8ae-b34825b502dd",
   "metadata": {},
   "outputs": [],
   "source": [
    "import pandas as pd # import pandas library"
   ]
  },
  {
   "cell_type": "code",
   "execution_count": 2,
   "id": "4471c9f8-9617-48e6-85cc-46e6d0981aa4",
   "metadata": {},
   "outputs": [],
   "source": [
    "df = pd.read_csv('ViewingActivity-sample.csv') # read our Netflix data csv into a pandas dataframe: df"
   ]
  },
  {
   "cell_type": "code",
   "execution_count": 3,
   "id": "9247cf4e-10ab-41a4-84b4-745360aa98fd",
   "metadata": {},
   "outputs": [
    {
     "data": {
      "text/plain": [
       "(200, 10)"
      ]
     },
     "execution_count": 3,
     "metadata": {},
     "output_type": "execute_result"
    }
   ],
   "source": [
    "df.shape # gives # of rows and columns in df"
   ]
  },
  {
   "cell_type": "code",
   "execution_count": 4,
   "id": "d6c6fbda-0841-407f-9de7-ede10db29c0d",
   "metadata": {},
   "outputs": [
    {
     "data": {
      "text/html": [
       "<div>\n",
       "<style scoped>\n",
       "    .dataframe tbody tr th:only-of-type {\n",
       "        vertical-align: middle;\n",
       "    }\n",
       "\n",
       "    .dataframe tbody tr th {\n",
       "        vertical-align: top;\n",
       "    }\n",
       "\n",
       "    .dataframe thead th {\n",
       "        text-align: right;\n",
       "    }\n",
       "</style>\n",
       "<table border=\"1\" class=\"dataframe\">\n",
       "  <thead>\n",
       "    <tr style=\"text-align: right;\">\n",
       "      <th></th>\n",
       "      <th>Profile Name</th>\n",
       "      <th>Start Time</th>\n",
       "      <th>Duration</th>\n",
       "      <th>Attributes</th>\n",
       "      <th>Title</th>\n",
       "      <th>Supplemental Video Type</th>\n",
       "      <th>Device Type</th>\n",
       "      <th>Bookmark</th>\n",
       "      <th>Latest Bookmark</th>\n",
       "      <th>Country</th>\n",
       "    </tr>\n",
       "  </thead>\n",
       "  <tbody>\n",
       "    <tr>\n",
       "      <th>0</th>\n",
       "      <td>Charlie</td>\n",
       "      <td>2013-03-20 5:17:53</td>\n",
       "      <td>0:00:05</td>\n",
       "      <td>NaN</td>\n",
       "      <td>Star Trek: Deep Space Nine: Season 5: Empok No...</td>\n",
       "      <td>NaN</td>\n",
       "      <td>Mac</td>\n",
       "      <td>0:00:05</td>\n",
       "      <td>Not latest view</td>\n",
       "      <td>US (United States)</td>\n",
       "    </tr>\n",
       "    <tr>\n",
       "      <th>1</th>\n",
       "      <td>Charlie</td>\n",
       "      <td>2013-03-20 4:27:45</td>\n",
       "      <td>0:44:31</td>\n",
       "      <td>NaN</td>\n",
       "      <td>Star Trek: Deep Space Nine: Season 5: Blaze of...</td>\n",
       "      <td>NaN</td>\n",
       "      <td>Mac</td>\n",
       "      <td>0:44:31</td>\n",
       "      <td>Not latest view</td>\n",
       "      <td>US (United States)</td>\n",
       "    </tr>\n",
       "    <tr>\n",
       "      <th>2</th>\n",
       "      <td>Charlie</td>\n",
       "      <td>2013-03-20 4:05:21</td>\n",
       "      <td>0:22:06</td>\n",
       "      <td>NaN</td>\n",
       "      <td>Star Trek: Deep Space Nine: Season 5: Children...</td>\n",
       "      <td>NaN</td>\n",
       "      <td>Mac</td>\n",
       "      <td>0:44:37</td>\n",
       "      <td>0:44:37</td>\n",
       "      <td>US (United States)</td>\n",
       "    </tr>\n",
       "    <tr>\n",
       "      <th>3</th>\n",
       "      <td>Charlie</td>\n",
       "      <td>2013-03-20 0:20:03</td>\n",
       "      <td>0:48:14</td>\n",
       "      <td>NaN</td>\n",
       "      <td>The Invisible War</td>\n",
       "      <td>NaN</td>\n",
       "      <td>Microsoft Xbox 360</td>\n",
       "      <td>0:53:18</td>\n",
       "      <td>0:53:18</td>\n",
       "      <td>US (United States)</td>\n",
       "    </tr>\n",
       "    <tr>\n",
       "      <th>4</th>\n",
       "      <td>Charlie</td>\n",
       "      <td>2013-03-20 0:10:31</td>\n",
       "      <td>0:04:51</td>\n",
       "      <td>NaN</td>\n",
       "      <td>The Invisible War</td>\n",
       "      <td>NaN</td>\n",
       "      <td>Mac</td>\n",
       "      <td>0:05:01</td>\n",
       "      <td>Not latest view</td>\n",
       "      <td>US (United States)</td>\n",
       "    </tr>\n",
       "  </tbody>\n",
       "</table>\n",
       "</div>"
      ],
      "text/plain": [
       "  Profile Name          Start Time Duration  Attributes  \\\n",
       "0      Charlie  2013-03-20 5:17:53  0:00:05         NaN   \n",
       "1      Charlie  2013-03-20 4:27:45  0:44:31         NaN   \n",
       "2      Charlie  2013-03-20 4:05:21  0:22:06         NaN   \n",
       "3      Charlie  2013-03-20 0:20:03  0:48:14         NaN   \n",
       "4      Charlie  2013-03-20 0:10:31  0:04:51         NaN   \n",
       "\n",
       "                                               Title  Supplemental Video Type  \\\n",
       "0  Star Trek: Deep Space Nine: Season 5: Empok No...                      NaN   \n",
       "1  Star Trek: Deep Space Nine: Season 5: Blaze of...                      NaN   \n",
       "2  Star Trek: Deep Space Nine: Season 5: Children...                      NaN   \n",
       "3                                  The Invisible War                      NaN   \n",
       "4                                  The Invisible War                      NaN   \n",
       "\n",
       "          Device Type Bookmark  Latest Bookmark             Country  \n",
       "0                 Mac  0:00:05  Not latest view  US (United States)  \n",
       "1                 Mac  0:44:31  Not latest view  US (United States)  \n",
       "2                 Mac  0:44:37          0:44:37  US (United States)  \n",
       "3  Microsoft Xbox 360  0:53:18          0:53:18  US (United States)  \n",
       "4                 Mac  0:05:01  Not latest view  US (United States)  "
      ]
     },
     "execution_count": 4,
     "metadata": {},
     "output_type": "execute_result"
    }
   ],
   "source": [
    "df.head() # gives the first few rows of df"
   ]
  },
  {
   "cell_type": "code",
   "execution_count": 5,
   "id": "fc2b09de-ea45-4fa4-b7e9-b16730fb1553",
   "metadata": {},
   "outputs": [],
   "source": [
    "# cleaning the data\n",
    "# drop unnecessary columns\n",
    "df.drop(['Profile Name', 'Attributes', 'Supplemental Video Type', \n",
    "         'Device Type', 'Bookmark', 'Latest Bookmark', 'Country'], axis=1, inplace=True)"
   ]
  },
  {
   "cell_type": "code",
   "execution_count": 6,
   "id": "41d71aee-34c8-4b9c-9514-c4af23300761",
   "metadata": {},
   "outputs": [
    {
     "data": {
      "text/plain": [
       "Start Time    object\n",
       "Duration      object\n",
       "Title         object\n",
       "dtype: object"
      ]
     },
     "execution_count": 6,
     "metadata": {},
     "output_type": "execute_result"
    }
   ],
   "source": [
    "df.dtypes # gives list of datatypes for each column in df\n",
    "          # 'object' datatype means they're strings"
   ]
  },
  {
   "cell_type": "code",
   "execution_count": 7,
   "id": "9c287395-30a7-4929-bcbc-76ab66136c4a",
   "metadata": {},
   "outputs": [
    {
     "data": {
      "text/plain": [
       "Start Time    datetime64[ns, UTC]\n",
       "Duration                   object\n",
       "Title                      object\n",
       "dtype: object"
      ]
     },
     "execution_count": 7,
     "metadata": {},
     "output_type": "execute_result"
    }
   ],
   "source": [
    "df['Start Time'] = pd.to_datetime(df['Start Time'], utc=True) # change datatype of 'Start Time' to datetime with timezone=utc\n",
    "df.dtypes"
   ]
  },
  {
   "cell_type": "code",
   "execution_count": 8,
   "id": "9d867db3-d028-4060-a6ed-bcb3535e471d",
   "metadata": {},
   "outputs": [],
   "source": [
    "# changing timezone of 'Start Time' from 'UTC' to 'US/Eastern'\n",
    "df.set_index('Start Time', inplace=True) # change 'Start Time' column into df's index\n",
    "df.index = df.index.tz_convert('US/Eastern') # convert timezone\n",
    "df.reset_index(inplace=True) # reset the index so 'Start Time' becomes a column again"
   ]
  },
  {
   "cell_type": "code",
   "execution_count": 9,
   "id": "10036b11-7c1d-42ee-9416-6bc8208973f1",
   "metadata": {},
   "outputs": [],
   "source": [
    "# changing datatype of 'Duration' column to 'timedelta' (measure of time duration that pandas understands)\n",
    "df['Duration'] = pd.to_timedelta(df['Duration'])"
   ]
  },
  {
   "cell_type": "code",
   "execution_count": 10,
   "id": "20bc755a-a1f5-4e84-92dd-2be801390ff5",
   "metadata": {},
   "outputs": [
    {
     "data": {
      "text/plain": [
       "array(['Star Trek: Deep Space Nine: Season 5: Empok Nor (Episode 24)',\n",
       "       'Star Trek: Deep Space Nine: Season 5: Blaze of Glory (Episode 23)',\n",
       "       'Star Trek: Deep Space Nine: Season 5: Children of Time (Episode 22)',\n",
       "       'The Invisible War',\n",
       "       'Star Trek: Deep Space Nine: Season 5: Soldiers of the Empire (Episode 21)',\n",
       "       'Star Trek: Deep Space Nine: Season 5: Ferengi Love Songs (Episode 20)',\n",
       "       'The Office (U.S.): Season 5: The Duel (Episode 12)',\n",
       "       'The Office (U.S.): Season 5: Moroccan Christmas (Episode 11)',\n",
       "       'The Office (U.S.): Season 5: The Surplus (Episode 10)',\n",
       "       'The Office (U.S.): Season 5: Frame Toby (Episode 9)',\n",
       "       'The Office (U.S.): Season 5: Business Trip (Episode 8)',\n",
       "       'The Office (U.S.): Season 5: Customer Survey (Episode 7)',\n",
       "       'The Office (U.S.): Season 5: Employee Transfer (Episode 6)',\n",
       "       'The Office (U.S.): Season 5: Crime Aid (Episode 5)',\n",
       "       'The Office (U.S.): Season 5: Baby Shower (Episode 4)',\n",
       "       'The Office (U.S.): Season 5: Business Ethics (Episode 3)',\n",
       "       'The Office (U.S.): Season 5: Weight Loss: Part 2 (Episode 2)',\n",
       "       'The Office (U.S.): Season 5: Weight Loss: Part 1 (Episode 1)',\n",
       "       'The Office (U.S.): Season 4: Goodbye, Toby (Episode 14)',\n",
       "       'The Office (U.S.): Season 4: Job Fair (Episode 13)',\n",
       "       'The Office (U.S.): Season 4: Did I Stutter (Episode 12)',\n",
       "       'The Office (U.S.): Season 4: Night Out (Episode 11)',\n",
       "       'The Office (U.S.): Season 4: The Chair Model (Episode 10)',\n",
       "       'The Office (U.S.): Season 4: Dinner Party (Episode 9)',\n",
       "       'The Office (U.S.): Season 4: The Deposition (Episode 8)',\n",
       "       'The Office (U.S.): Season 4: Survivor Man (Episode 7)',\n",
       "       'The Office (U.S.): Season 4: Local Ad (Episode 5)',\n",
       "       'The Office (U.S.): Season 4: Money (Episode 4)',\n",
       "       'The Office (U.S.): Season 4: Launch Party (Episode 3)',\n",
       "       'Archer: Season 3: The Man from Jupiter (Episode 4)',\n",
       "       'Archer: Season 3: Heart of Archness, Part 3 (Episode 3)',\n",
       "       'Archer: Season 3: Heart of Archness, Part 2 (Episode 2)',\n",
       "       'The Office (U.S.): Season 4: Dunder Mifflin Infinity (Episode 2)',\n",
       "       'The Office (U.S.): Season 4: Fun Run (Episode 1)',\n",
       "       'The Office (U.S.): Season 3: The Job (Episode 23)',\n",
       "       'The Office (U.S.): Season 3: Beach Games (Episode 22)',\n",
       "       \"The Office (U.S.): Season 3: Women's Appreciation (Episode 21)\",\n",
       "       'The Office (U.S.): Season 3: Product Recall (Episode 20)',\n",
       "       'The Office (U.S.): Season 3: Safety Training (Episode 19)',\n",
       "       'Archer: Season 3: Heart of Archness, Part 1 (Episode 1)',\n",
       "       'Archer: Season 2: El Secuestro (Episode 10)',\n",
       "       'The Office (U.S.): Season 3: The Negotiation (Episode 18)',\n",
       "       'The Office (U.S.): Season 3: Cocktails (Episode 17)',\n",
       "       'The Office (U.S.): Season 3: Business School (Episode 16)',\n",
       "       \"The Office (U.S.): Season 3: Phyllis's Wedding (Episode 15)\",\n",
       "       'The Office (U.S.): Season 3: Ben Franklin (Episode 14)',\n",
       "       'Archer: Season 2: Placebo Effect (Episode 9)',\n",
       "       'Archer: Season 2: Stage Two (Episode 8)',\n",
       "       'The Office (U.S.): Season 3: The Return (Episode 13)',\n",
       "       'The Office (U.S.): Season 3: Traveling Salesmen (Episode 12)',\n",
       "       'The Office (U.S.): Season 3: Back from Vacation (Episode 11)',\n",
       "       'The Office (U.S.): Season 3: A Benihana Christmas (Episode 10)',\n",
       "       'The Office (U.S.): Season 3: The Convict (Episode 9)',\n",
       "       'The Office (U.S.): Season 3: The Merger (Episode 8)',\n",
       "       'The Office (U.S.): Season 3: Branch Closing (Episode 7)',\n",
       "       'The Office (U.S.): Season 3: Diwali (Episode 6)',\n",
       "       'The Office (U.S.): Season 3: Initiation (Episode 5)',\n",
       "       'The Office (U.S.): Season 3: Grief Counseling (Episode 4)',\n",
       "       'The Office (U.S.): Season 3: The Coup (Episode 3)',\n",
       "       'The Office (U.S.): Season 3: The Convention (Episode 2)',\n",
       "       'The Office (U.S.): Season 3: Gay Witch Hunt (Episode 1)',\n",
       "       'The Office (U.S.): Season 2: Casino Night (Episode 22)',\n",
       "       'The Office (U.S.): Season 2: Conflict Resolution (Episode 21)',\n",
       "       'The Office (U.S.): Season 2: Drug Testing (Episode 20)',\n",
       "       \"The Office (U.S.): Season 2: Michael's Birthday (Episode 19)\",\n",
       "       'The Office (U.S.): Season 2: Take Your Daughter to Work Day (Episode 18)',\n",
       "       \"The Office (U.S.): Season 2: Dwight's Speech (Episode 17)\",\n",
       "       \"The Office (U.S.): Season 2: Valentine's Day (Episode 16)\",\n",
       "       'The Office (U.S.): Season 2: Boys and Girls (Episode 15)',\n",
       "       'The Office (U.S.): Season 2: The Carpet (Episode 14)',\n",
       "       'The Office (U.S.): Season 2: The Secret (Episode 13)',\n",
       "       'Archer: Season 2: Movie Star (Episode 7)',\n",
       "       'Archer: Season 2: Tragical History (Episode 6)',\n",
       "       'The Office (U.S.): Season 2: The Injury (Episode 12)',\n",
       "       'The Office (U.S.): Season 2: Booze Cruise (Episode 11)',\n",
       "       'The Office (U.S.): Season 2: Christmas Party (Episode 10)',\n",
       "       'The Office (U.S.): Season 2: Email Surveillance (Episode 9)',\n",
       "       'The Office (U.S.): Season 2: Performance Review (Episode 8)',\n",
       "       'The Office (U.S.): Season 2: The Client (Episode 7)',\n",
       "       'The Office (U.S.): Season 2: The Fight (Episode 6)',\n",
       "       'The Office (U.S.): Season 2: Halloween (Episode 5)',\n",
       "       'The Office (U.S.): Season 2: The Fire (Episode 4)',\n",
       "       'The Office (U.S.): Season 2: Office Olympics (Episode 3)',\n",
       "       'The Office (U.S.): Season 2: Sexual Harassment (Episode 2)',\n",
       "       'The Office (U.S.): Season 2: The Dundies (Episode 1)',\n",
       "       'The Office (U.S.): Season 1: Hot Girl (Episode 6)',\n",
       "       'The Office (U.S.): Season 1: Basketball (Episode 5)',\n",
       "       'The Office (U.S.): Season 1: The Alliance (Episode 4)',\n",
       "       'The Office (U.S.): Season 1: Health Care (Episode 3)',\n",
       "       'The Office (U.S.): Season 1: Diversity Day (Episode 2)',\n",
       "       'The Office (U.S.): Season 1: Pilot (Episode 1)',\n",
       "       'The Office (U.S.): Season 7: Search Committee: Part 2 (Episode 26)',\n",
       "       'The Office (U.S.): Season 7: Search Committee: Part 1 (Episode 25)',\n",
       "       'The Office (U.S.): Season 7: Dwight K. Schrute, (Acting) Manager (Episode 24)',\n",
       "       'The Office (U.S.): Season 7: The Inner Circle (Episode 23)',\n",
       "       'The Office (U.S.): Season 7: Goodbye, Michael (Episode 22)',\n",
       "       \"The Office (U.S.): Season 7: Michael's Last Dundies (Episode 21)\",\n",
       "       'The Office (U.S.): Season 7: Training Day (Episode 20)',\n",
       "       'The Office (U.S.): Season 7: Garage Sale (Episode 19)',\n",
       "       'The Office (U.S.): Season 7: Threat Level Midnight (Episode 17)',\n",
       "       'The Office (U.S.): Season 7: PDA (Episode 16)',\n",
       "       'The Office (U.S.): Season 7: The Search (Episode 15)',\n",
       "       'The Office (U.S.): Season 7: The Seminar (Episode 14)',\n",
       "       'The Office (U.S.): Season 7: Ultimatum (Episode 13)',\n",
       "       'The Office (U.S.): Season 7: Classy Christmas: Part 2 (Episode 12)',\n",
       "       'The Office (U.S.): Season 7: Classy Christmas: Part 1 (Episode 11)',\n",
       "       'The Office (U.S.): Season 7: China (Episode 10)',\n",
       "       'The Office (U.S.): Season 7: WUPHF.com (Episode 9)',\n",
       "       'The Office (U.S.): Season 7: Viewing Party (Episode 8)',\n",
       "       'The Office (U.S.): Season 7: Christening (Episode 7)',\n",
       "       'The Office (U.S.): Season 7: Costume Contest (Episode 6)',\n",
       "       'The Office (U.S.): Season 7: The Sting (Episode 5)',\n",
       "       'The Office (U.S.): Season 7: Sex Ed (Episode 4)',\n",
       "       \"The Office (U.S.): Season 7: Andy's Play (Episode 3)\",\n",
       "       'The Office (U.S.): Season 7: Counseling (Episode 2)',\n",
       "       'The Office (U.S.): Season 7: Nepotism (Episode 1)',\n",
       "       'Archer: Season 2: The Double Deuce (Episode 5)',\n",
       "       '30 for 30: The Two Escobars',\n",
       "       'Star Trek: Deep Space Nine: Season 5: Ties of Blood and Water (Episode 19)',\n",
       "       'Star Trek: Deep Space Nine: Season 5: Business as Usual (Episode 18)',\n",
       "       'Star Trek: Deep Space Nine: Season 5: A Simple Investigation (Episode 17)',\n",
       "       'Star Trek: Deep Space Nine: Season 5: Doctor Bashir, I Presume? (Episode 16)',\n",
       "       'Buffy the Vampire Slayer: Season 6: Once More, with Feeling (Episode 7)',\n",
       "       \"Star Trek: Deep Space Nine: Season 5: By Inferno's Light (Episode 15)\",\n",
       "       'Star Trek: Deep Space Nine: Season 1: Emissary: Parts 1 & 2 (Episode 1)',\n",
       "       \"Star Trek: Deep Space Nine: Season 5: In Purgatory's Shadow (Episode 14)\",\n",
       "       'Star Trek: Deep Space Nine: Season 5: For the Uniform (Episode 13)',\n",
       "       'Star Trek: Deep Space Nine: Season 5: The Begotten (Episode 12)',\n",
       "       'Star Trek: Deep Space Nine: Season 5: The Darkness and the Light (Episode 11)',\n",
       "       'Star Trek: Deep Space Nine: Season 5: Rapture (Episode 10)',\n",
       "       'Star Trek: Deep Space Nine: Season 5: The Ascent (Episode 9)',\n",
       "       'Archer: Season 2: Pipeline Fever (Episode 4)',\n",
       "       'Archer: Season 2: Blood Test (Episode 3)',\n",
       "       'Star Trek: Deep Space Nine: Season 5: Things Past (Episode 8)',\n",
       "       'Star Trek: Deep Space Nine: Season 5: Let He Who Is Without Sin.. (Episode 7)',\n",
       "       'Star Trek: Deep Space Nine: Season 5: Trials and Tribble-ations (Episode 6)',\n",
       "       'Star Trek: Deep Space Nine: Season 5: The Assignment (Episode 5)',\n",
       "       'Star Trek: Deep Space Nine: Season 5: ...Nor the Battle to the Strong (Episode 4)',\n",
       "       \"Star Trek: Deep Space Nine: Season 5: Looking for Par'Mach in All the Wrong Places (Episode 3)\",\n",
       "       'Star Trek: Deep Space Nine: Season 5: The Ship (Episode 2)',\n",
       "       'Star Trek: Deep Space Nine: Season 5: Apocalypse Rising (Episode 1)',\n",
       "       'Star Trek: Deep Space Nine: Season 4: Broken Link (Episode 25)',\n",
       "       'Star Trek: Deep Space Nine: Season 4: Body Parts (Episode 24)',\n",
       "       'Louis C.K.: Live at the Beacon Theater',\n",
       "       'Star Trek: Deep Space Nine: Season 4: The Quickening (Episode 23)',\n",
       "       'Star Trek: Deep Space Nine: Season 4: To the Death (Episode 22)'],\n",
       "      dtype=object)"
      ]
     },
     "execution_count": 10,
     "metadata": {},
     "output_type": "execute_result"
    }
   ],
   "source": [
    "df['Title'].unique()"
   ]
  },
  {
   "cell_type": "code",
   "execution_count": null,
   "id": "3f88d5ff-af3c-45eb-92c6-60df179c41d5",
   "metadata": {},
   "outputs": [],
   "source": []
  }
 ],
 "metadata": {
  "kernelspec": {
   "display_name": "Python 3 (ipykernel)",
   "language": "python",
   "name": "python3"
  },
  "language_info": {
   "codemirror_mode": {
    "name": "ipython",
    "version": 3
   },
   "file_extension": ".py",
   "mimetype": "text/x-python",
   "name": "python",
   "nbconvert_exporter": "python",
   "pygments_lexer": "ipython3",
   "version": "3.11.7"
  }
 },
 "nbformat": 4,
 "nbformat_minor": 5
}
